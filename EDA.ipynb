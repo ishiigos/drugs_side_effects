{
 "cells": [
  {
   "cell_type": "markdown",
   "id": "3f14ba3a",
   "metadata": {},
   "source": [
    "# 💊 EDA for Drugs, Side Effects, and Medical Conditions"
   ]
  },
  {
   "cell_type": "markdown",
   "id": "933e8f34",
   "metadata": {},
   "source": [
    "## Import dependencies"
   ]
  },
  {
   "cell_type": "code",
   "execution_count": 6,
   "id": "1592b0ed",
   "metadata": {},
   "outputs": [],
   "source": [
    "import pandas as pd\n",
    "import numpy as np\n",
    "import matplotlib.pyplot as plt\n",
    "import seaborn as sns"
   ]
  },
  {
   "cell_type": "markdown",
   "id": "7e64128a",
   "metadata": {},
   "source": [
    "## Import Dataset"
   ]
  },
  {
   "cell_type": "code",
   "execution_count": 7,
   "id": "97b6f649",
   "metadata": {},
   "outputs": [
    {
     "data": {
      "text/html": [
       "<div>\n",
       "<style scoped>\n",
       "    .dataframe tbody tr th:only-of-type {\n",
       "        vertical-align: middle;\n",
       "    }\n",
       "\n",
       "    .dataframe tbody tr th {\n",
       "        vertical-align: top;\n",
       "    }\n",
       "\n",
       "    .dataframe thead th {\n",
       "        text-align: right;\n",
       "    }\n",
       "</style>\n",
       "<table border=\"1\" class=\"dataframe\">\n",
       "  <thead>\n",
       "    <tr style=\"text-align: right;\">\n",
       "      <th></th>\n",
       "      <th>drug_name</th>\n",
       "      <th>medical_condition</th>\n",
       "      <th>side_effects</th>\n",
       "      <th>generic_name</th>\n",
       "      <th>drug_classes</th>\n",
       "      <th>brand_names</th>\n",
       "      <th>activity</th>\n",
       "      <th>rx_otc</th>\n",
       "      <th>pregnancy_category</th>\n",
       "      <th>csa</th>\n",
       "      <th>alcohol</th>\n",
       "      <th>related_drugs</th>\n",
       "      <th>medical_condition_description</th>\n",
       "      <th>rating</th>\n",
       "      <th>no_of_reviews</th>\n",
       "      <th>drug_link</th>\n",
       "      <th>medical_condition_url</th>\n",
       "    </tr>\n",
       "  </thead>\n",
       "  <tbody>\n",
       "    <tr>\n",
       "      <th>0</th>\n",
       "      <td>doxycycline</td>\n",
       "      <td>Acne</td>\n",
       "      <td>(hives, difficult breathing, swelling in your ...</td>\n",
       "      <td>doxycycline</td>\n",
       "      <td>Miscellaneous antimalarials, Tetracyclines</td>\n",
       "      <td>Acticlate, Adoxa CK, Adoxa Pak, Adoxa TT, Alod...</td>\n",
       "      <td>87%</td>\n",
       "      <td>Rx</td>\n",
       "      <td>D</td>\n",
       "      <td>N</td>\n",
       "      <td>X</td>\n",
       "      <td>amoxicillin: https://www.drugs.com/amoxicillin...</td>\n",
       "      <td>Acne Other names: Acne Vulgaris; Blackheads; B...</td>\n",
       "      <td>6.8</td>\n",
       "      <td>760.0</td>\n",
       "      <td>https://www.drugs.com/doxycycline.html</td>\n",
       "      <td>https://www.drugs.com/condition/acne.html</td>\n",
       "    </tr>\n",
       "    <tr>\n",
       "      <th>1</th>\n",
       "      <td>spironolactone</td>\n",
       "      <td>Acne</td>\n",
       "      <td>hives ; difficulty breathing; swelling of your...</td>\n",
       "      <td>spironolactone</td>\n",
       "      <td>Aldosterone receptor antagonists, Potassium-sp...</td>\n",
       "      <td>Aldactone, CaroSpir</td>\n",
       "      <td>82%</td>\n",
       "      <td>Rx</td>\n",
       "      <td>C</td>\n",
       "      <td>N</td>\n",
       "      <td>X</td>\n",
       "      <td>amlodipine: https://www.drugs.com/amlodipine.h...</td>\n",
       "      <td>Acne Other names: Acne Vulgaris; Blackheads; B...</td>\n",
       "      <td>7.2</td>\n",
       "      <td>449.0</td>\n",
       "      <td>https://www.drugs.com/spironolactone.html</td>\n",
       "      <td>https://www.drugs.com/condition/acne.html</td>\n",
       "    </tr>\n",
       "    <tr>\n",
       "      <th>2</th>\n",
       "      <td>minocycline</td>\n",
       "      <td>Acne</td>\n",
       "      <td>skin rash, fever, swollen glands, flu-like sym...</td>\n",
       "      <td>minocycline</td>\n",
       "      <td>Tetracyclines</td>\n",
       "      <td>Dynacin, Minocin, Minolira, Solodyn, Ximino, V...</td>\n",
       "      <td>48%</td>\n",
       "      <td>Rx</td>\n",
       "      <td>D</td>\n",
       "      <td>N</td>\n",
       "      <td>NaN</td>\n",
       "      <td>amoxicillin: https://www.drugs.com/amoxicillin...</td>\n",
       "      <td>Acne Other names: Acne Vulgaris; Blackheads; B...</td>\n",
       "      <td>5.7</td>\n",
       "      <td>482.0</td>\n",
       "      <td>https://www.drugs.com/minocycline.html</td>\n",
       "      <td>https://www.drugs.com/condition/acne.html</td>\n",
       "    </tr>\n",
       "    <tr>\n",
       "      <th>3</th>\n",
       "      <td>Accutane</td>\n",
       "      <td>Acne</td>\n",
       "      <td>problems with your vision or hearing; muscle o...</td>\n",
       "      <td>isotretinoin (oral)</td>\n",
       "      <td>Miscellaneous antineoplastics, Miscellaneous u...</td>\n",
       "      <td>NaN</td>\n",
       "      <td>41%</td>\n",
       "      <td>Rx</td>\n",
       "      <td>X</td>\n",
       "      <td>N</td>\n",
       "      <td>X</td>\n",
       "      <td>doxycycline: https://www.drugs.com/doxycycline...</td>\n",
       "      <td>Acne Other names: Acne Vulgaris; Blackheads; B...</td>\n",
       "      <td>7.9</td>\n",
       "      <td>623.0</td>\n",
       "      <td>https://www.drugs.com/accutane.html</td>\n",
       "      <td>https://www.drugs.com/condition/acne.html</td>\n",
       "    </tr>\n",
       "    <tr>\n",
       "      <th>4</th>\n",
       "      <td>clindamycin</td>\n",
       "      <td>Acne</td>\n",
       "      <td>hives ; difficult breathing; swelling of your ...</td>\n",
       "      <td>clindamycin topical</td>\n",
       "      <td>Topical acne agents, Vaginal anti-infectives</td>\n",
       "      <td>Cleocin T, Clindacin ETZ, Clindacin P, Clindag...</td>\n",
       "      <td>39%</td>\n",
       "      <td>Rx</td>\n",
       "      <td>B</td>\n",
       "      <td>N</td>\n",
       "      <td>NaN</td>\n",
       "      <td>doxycycline: https://www.drugs.com/doxycycline...</td>\n",
       "      <td>Acne Other names: Acne Vulgaris; Blackheads; B...</td>\n",
       "      <td>7.4</td>\n",
       "      <td>146.0</td>\n",
       "      <td>https://www.drugs.com/mtm/clindamycin-topical....</td>\n",
       "      <td>https://www.drugs.com/condition/acne.html</td>\n",
       "    </tr>\n",
       "  </tbody>\n",
       "</table>\n",
       "</div>"
      ],
      "text/plain": [
       "        drug_name medical_condition  \\\n",
       "0     doxycycline              Acne   \n",
       "1  spironolactone              Acne   \n",
       "2     minocycline              Acne   \n",
       "3        Accutane              Acne   \n",
       "4     clindamycin              Acne   \n",
       "\n",
       "                                        side_effects         generic_name  \\\n",
       "0  (hives, difficult breathing, swelling in your ...          doxycycline   \n",
       "1  hives ; difficulty breathing; swelling of your...       spironolactone   \n",
       "2  skin rash, fever, swollen glands, flu-like sym...          minocycline   \n",
       "3  problems with your vision or hearing; muscle o...  isotretinoin (oral)   \n",
       "4  hives ; difficult breathing; swelling of your ...  clindamycin topical   \n",
       "\n",
       "                                        drug_classes  \\\n",
       "0         Miscellaneous antimalarials, Tetracyclines   \n",
       "1  Aldosterone receptor antagonists, Potassium-sp...   \n",
       "2                                      Tetracyclines   \n",
       "3  Miscellaneous antineoplastics, Miscellaneous u...   \n",
       "4       Topical acne agents, Vaginal anti-infectives   \n",
       "\n",
       "                                         brand_names activity rx_otc  \\\n",
       "0  Acticlate, Adoxa CK, Adoxa Pak, Adoxa TT, Alod...      87%     Rx   \n",
       "1                                Aldactone, CaroSpir      82%     Rx   \n",
       "2  Dynacin, Minocin, Minolira, Solodyn, Ximino, V...      48%     Rx   \n",
       "3                                                NaN      41%     Rx   \n",
       "4  Cleocin T, Clindacin ETZ, Clindacin P, Clindag...      39%     Rx   \n",
       "\n",
       "  pregnancy_category csa alcohol  \\\n",
       "0                  D   N       X   \n",
       "1                  C   N       X   \n",
       "2                  D   N     NaN   \n",
       "3                  X   N       X   \n",
       "4                  B   N     NaN   \n",
       "\n",
       "                                       related_drugs  \\\n",
       "0  amoxicillin: https://www.drugs.com/amoxicillin...   \n",
       "1  amlodipine: https://www.drugs.com/amlodipine.h...   \n",
       "2  amoxicillin: https://www.drugs.com/amoxicillin...   \n",
       "3  doxycycline: https://www.drugs.com/doxycycline...   \n",
       "4  doxycycline: https://www.drugs.com/doxycycline...   \n",
       "\n",
       "                       medical_condition_description  rating  no_of_reviews  \\\n",
       "0  Acne Other names: Acne Vulgaris; Blackheads; B...     6.8          760.0   \n",
       "1  Acne Other names: Acne Vulgaris; Blackheads; B...     7.2          449.0   \n",
       "2  Acne Other names: Acne Vulgaris; Blackheads; B...     5.7          482.0   \n",
       "3  Acne Other names: Acne Vulgaris; Blackheads; B...     7.9          623.0   \n",
       "4  Acne Other names: Acne Vulgaris; Blackheads; B...     7.4          146.0   \n",
       "\n",
       "                                           drug_link  \\\n",
       "0             https://www.drugs.com/doxycycline.html   \n",
       "1          https://www.drugs.com/spironolactone.html   \n",
       "2             https://www.drugs.com/minocycline.html   \n",
       "3                https://www.drugs.com/accutane.html   \n",
       "4  https://www.drugs.com/mtm/clindamycin-topical....   \n",
       "\n",
       "                       medical_condition_url  \n",
       "0  https://www.drugs.com/condition/acne.html  \n",
       "1  https://www.drugs.com/condition/acne.html  \n",
       "2  https://www.drugs.com/condition/acne.html  \n",
       "3  https://www.drugs.com/condition/acne.html  \n",
       "4  https://www.drugs.com/condition/acne.html  "
      ]
     },
     "execution_count": 7,
     "metadata": {},
     "output_type": "execute_result"
    }
   ],
   "source": [
    "df = pd.read_csv('drugs_side_effects_drugs_com.csv')\n",
    "df.head()"
   ]
  },
  {
   "cell_type": "markdown",
   "id": "bdcffa7c",
   "metadata": {},
   "source": [
    "## Data Cleaning"
   ]
  },
  {
   "cell_type": "markdown",
   "id": "b777345f",
   "metadata": {},
   "source": [
    "### Missing Values Check"
   ]
  },
  {
   "cell_type": "code",
   "execution_count": 8,
   "id": "81614580",
   "metadata": {},
   "outputs": [
    {
     "data": {
      "text/plain": [
       "drug_name                           0\n",
       "medical_condition                   0\n",
       "side_effects                      124\n",
       "generic_name                       43\n",
       "drug_classes                       82\n",
       "brand_names                      1213\n",
       "activity                            0\n",
       "rx_otc                              1\n",
       "pregnancy_category                229\n",
       "csa                                 0\n",
       "alcohol                          1554\n",
       "related_drugs                    1469\n",
       "medical_condition_description       0\n",
       "rating                           1345\n",
       "no_of_reviews                    1345\n",
       "drug_link                           0\n",
       "medical_condition_url               0\n",
       "dtype: int64"
      ]
     },
     "execution_count": 8,
     "metadata": {},
     "output_type": "execute_result"
    }
   ],
   "source": [
    "df.isnull().sum()"
   ]
  },
  {
   "cell_type": "markdown",
   "id": "50eb579d",
   "metadata": {},
   "source": [
    "#### Handle Missing Values"
   ]
  },
  {
   "cell_type": "code",
   "execution_count": 9,
   "id": "93ad7495",
   "metadata": {},
   "outputs": [
    {
     "name": "stdout",
     "output_type": "stream",
     "text": [
      "Index(['drug_name', 'medical_condition', 'side_effects', 'generic_name',\n",
      "       'drug_classes', 'brand_names', 'activity', 'rx_otc',\n",
      "       'pregnancy_category', 'csa', 'alcohol', 'related_drugs',\n",
      "       'medical_condition_description', 'rating', 'no_of_reviews', 'drug_link',\n",
      "       'medical_condition_url'],\n",
      "      dtype='object')\n"
     ]
    }
   ],
   "source": [
    "print(df.columns)"
   ]
  },
  {
   "cell_type": "markdown",
   "id": "28de9cdd",
   "metadata": {},
   "source": [
    "#### Handling text based missing values"
   ]
  },
  {
   "cell_type": "code",
   "execution_count": 11,
   "id": "9f9d4cd7",
   "metadata": {},
   "outputs": [],
   "source": [
    "df['side_effects'].fillna(\"Unknown\", inplace=True)\n",
    "df['generic_name'].fillna(\"Unknown\", inplace=True)\n",
    "df['drug_classes'].fillna(\"Unknown\", inplace=True)\n",
    "df['brand_names'].fillna(\"Unknown\", inplace=True)\n",
    "df['rx_otc'].fillna(\"Unknown\", inplace=True)\n",
    "df['pregnancy_category'].fillna(\"Unknown\", inplace=True)\n",
    "df['alcohol'].fillna(\"Unknown\", inplace=True)\n",
    "df['related_drugs'].fillna(\"Unknown\", inplace=True)\n"
   ]
  },
  {
   "cell_type": "markdown",
   "id": "736f1b3c",
   "metadata": {},
   "source": [
    "#### Handling numerical missing values"
   ]
  },
  {
   "cell_type": "code",
   "execution_count": 13,
   "id": "f5767f86",
   "metadata": {},
   "outputs": [],
   "source": [
    "df['rating'].fillna(\"0\", inplace=True)\n",
    "df['no_of_reviews'].fillna(\"0\", inplace=True)"
   ]
  },
  {
   "cell_type": "markdown",
   "id": "45df61d9",
   "metadata": {},
   "source": [
    "#### Check missing values again"
   ]
  },
  {
   "cell_type": "code",
   "execution_count": 14,
   "id": "df48bc6c",
   "metadata": {},
   "outputs": [
    {
     "data": {
      "text/plain": [
       "drug_name                        0\n",
       "medical_condition                0\n",
       "side_effects                     0\n",
       "generic_name                     0\n",
       "drug_classes                     0\n",
       "brand_names                      0\n",
       "activity                         0\n",
       "rx_otc                           0\n",
       "pregnancy_category               0\n",
       "csa                              0\n",
       "alcohol                          0\n",
       "related_drugs                    0\n",
       "medical_condition_description    0\n",
       "rating                           0\n",
       "no_of_reviews                    0\n",
       "drug_link                        0\n",
       "medical_condition_url            0\n",
       "dtype: int64"
      ]
     },
     "execution_count": 14,
     "metadata": {},
     "output_type": "execute_result"
    }
   ],
   "source": [
    "df.isnull().sum()"
   ]
  },
  {
   "cell_type": "markdown",
   "id": "3a295237",
   "metadata": {},
   "source": [
    "### Check Duplicated Values"
   ]
  },
  {
   "cell_type": "code",
   "execution_count": 15,
   "id": "e3143e87",
   "metadata": {},
   "outputs": [
    {
     "name": "stdout",
     "output_type": "stream",
     "text": [
      "0\n"
     ]
    }
   ],
   "source": [
    "print(df.duplicated().sum())"
   ]
  },
  {
   "cell_type": "markdown",
   "id": "977e1c98",
   "metadata": {},
   "source": [
    "### Convert 'rating' and 'no of reviews' data to numeric"
   ]
  },
  {
   "cell_type": "code",
   "execution_count": 16,
   "id": "636da183",
   "metadata": {},
   "outputs": [
    {
     "name": "stdout",
     "output_type": "stream",
     "text": [
      "object     15\n",
      "float64     2\n",
      "Name: count, dtype: int64\n"
     ]
    }
   ],
   "source": [
    "df['rating'] = pd.to_numeric(df['rating'], errors='coerce')\n",
    "df['no_of_reviews'] = pd.to_numeric(df['no_of_reviews'], errors='coerce')\n",
    "\n",
    "print(df.dtypes.value_counts())"
   ]
  },
  {
   "cell_type": "markdown",
   "id": "ac56d245",
   "metadata": {},
   "source": [
    "### Activity - 'value'/100"
   ]
  },
  {
   "cell_type": "code",
   "execution_count": 22,
   "id": "a69899e1",
   "metadata": {},
   "outputs": [
    {
     "name": "stdout",
     "output_type": "stream",
     "text": [
      "0       0.87\n",
      "1       0.82\n",
      "2       0.48\n",
      "3       0.41\n",
      "4       0.39\n",
      "        ... \n",
      "2926    0.02\n",
      "2927    0.01\n",
      "2928    0.00\n",
      "2929    0.00\n",
      "2930    0.00\n",
      "Name: activity, Length: 2931, dtype: float64\n"
     ]
    }
   ],
   "source": [
    "df['activity']=df['activity'].astype(str).str.replace(r'\\s+', '', regex=True).str.rstrip('%').astype('float')/100\n",
    "print(df['activity'])"
   ]
  },
  {
   "cell_type": "markdown",
   "id": "969e4c14",
   "metadata": {},
   "source": [
    "### Replace values of 'alcohol' to boolean"
   ]
  },
  {
   "cell_type": "code",
   "execution_count": 26,
   "id": "dea2e4ad",
   "metadata": {},
   "outputs": [
    {
     "name": "stdout",
     "output_type": "stream",
     "text": [
      "[1 0]\n"
     ]
    }
   ],
   "source": [
    "print(df['alcohol'].unique()) #Check unique values 'X' and 'Unknown'\n",
    "df['alcohol']=df['alcohol'].replace({'X':1})\n",
    "df['alcohol']=df['alcohol'].replace({'Unknown':0})"
   ]
  },
  {
   "cell_type": "markdown",
   "id": "7ab79934",
   "metadata": {},
   "source": [
    "### Other Unique values"
   ]
  },
  {
   "cell_type": "code",
   "execution_count": 29,
   "id": "62409c39",
   "metadata": {},
   "outputs": [
    {
     "name": "stdout",
     "output_type": "stream",
     "text": [
      "['Rx' 'Rx/OTC' 'OTC' 'Unknown']\n",
      "['D' 'C' 'X' 'B' 'N' 'Unknown' 'A']\n"
     ]
    }
   ],
   "source": [
    "print(df['rx_otc'].unique())\n",
    "print(df['pregnancy_category'].unique())"
   ]
  },
  {
   "cell_type": "markdown",
   "id": "05c6ea76",
   "metadata": {},
   "source": [
    "### Make a copy of the data and save into csv"
   ]
  },
  {
   "cell_type": "code",
   "execution_count": 33,
   "id": "555486b6",
   "metadata": {},
   "outputs": [],
   "source": [
    "df2=df.copy()\n",
    "df2.to_csv('drugs_side_effects_drugs_com_cleaned.csv', index=False)"
   ]
  },
  {
   "cell_type": "markdown",
   "id": "99d65330",
   "metadata": {},
   "source": [
    "### Fixing value separators of columns - PONDER OVER THIS STEP FOR NOW"
   ]
  },
  {
   "cell_type": "code",
   "execution_count": null,
   "id": "4cb4f819",
   "metadata": {},
   "outputs": [
    {
     "data": {
      "text/plain": [
       "array(['X', 'Unknown'], dtype=object)"
      ]
     },
     "execution_count": 23,
     "metadata": {},
     "output_type": "execute_result"
    }
   ],
   "source": []
  },
  {
   "cell_type": "markdown",
   "id": "1f74215b",
   "metadata": {},
   "source": [
    "### Check unique values for some columns to see if NaN or Blanks left"
   ]
  },
  {
   "cell_type": "code",
   "execution_count": null,
   "id": "da51df3e",
   "metadata": {},
   "outputs": [],
   "source": []
  }
 ],
 "metadata": {
  "kernelspec": {
   "display_name": ".venv",
   "language": "python",
   "name": "python3"
  },
  "language_info": {
   "codemirror_mode": {
    "name": "ipython",
    "version": 3
   },
   "file_extension": ".py",
   "mimetype": "text/x-python",
   "name": "python",
   "nbconvert_exporter": "python",
   "pygments_lexer": "ipython3",
   "version": "3.13.4"
  }
 },
 "nbformat": 4,
 "nbformat_minor": 5
}
