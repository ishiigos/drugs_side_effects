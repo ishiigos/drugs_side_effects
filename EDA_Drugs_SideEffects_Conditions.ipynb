{
 "cells": [
  {
   "cell_type": "markdown",
   "id": "0f9a8712",
   "metadata": {},
   "source": [
    "# 📊 Exploratory Data Analysis on Drugs, Side Effects, and Medical Conditions\n",
    "\n",
    "This project explores relationships between drugs, their side effects, medical conditions, and user reviews."
   ]
  },
  {
   "cell_type": "markdown",
   "id": "c28c2b49",
   "metadata": {},
   "source": [
    "## Import Dependencies"
   ]
  },
  {
   "cell_type": "code",
   "execution_count": null,
   "id": "f8f5cadc",
   "metadata": {},
   "outputs": [
    {
     "ename": "",
     "evalue": "",
     "output_type": "error",
     "traceback": [
      "\u001b[1;31mRunning cells with 'Python 3.13.1' requires the ipykernel package.\n",
      "\u001b[1;31m<a href='command:jupyter.createPythonEnvAndSelectController'>Create a Python Environment</a> with the required packages.\n",
      "\u001b[1;31mOr install 'ipykernel' using the command: '/opt/homebrew/bin/python3 -m pip install ipykernel -U --user --force-reinstall'"
     ]
    }
   ],
   "source": [
    "import pandas as pd\n",
    "import numpy as np\n",
    "import matplotlib.pyplot as plt\n",
    "import seaborn as sns"
   ]
  },
  {
   "cell_type": "markdown",
   "id": "58a0f8bb",
   "metadata": {},
   "source": [
    "## Load DataSet"
   ]
  },
  {
   "cell_type": "code",
   "execution_count": null,
   "id": "bbdb4305",
   "metadata": {},
   "outputs": [],
   "source": [
    "# Replace with your actual file path\n",
    "df = pd.read_csv('path_to_your_dataset.csv')\n",
    "df.head()"
   ]
  },
  {
   "cell_type": "markdown",
   "id": "6264f421",
   "metadata": {},
   "source": [
    "## 🧹 Data Cleaning"
   ]
  },
  {
   "cell_type": "code",
   "execution_count": null,
   "id": "a4880cf9",
   "metadata": {},
   "outputs": [],
   "source": [
    "# Check for missing values\n",
    "df.isnull().sum()"
   ]
  },
  {
   "cell_type": "code",
   "execution_count": null,
   "id": "a53b39dd",
   "metadata": {},
   "outputs": [],
   "source": [
    "# Option 1: Drop missing values\n",
    "df_cleaned = df.dropna()\n",
    "\n",
    "# Option 2: Fill missing values\n",
    "df_filled = df.fillna('Unknown')"
   ]
  },
  {
   "cell_type": "markdown",
   "id": "445bba70",
   "metadata": {},
   "source": [
    "## 🔍 Basic Data Exploration"
   ]
  },
  {
   "cell_type": "code",
   "execution_count": null,
   "id": "db1456a5",
   "metadata": {},
   "outputs": [],
   "source": [
    "df.describe(include='all')\n",
    "df.info()"
   ]
  },
  {
   "cell_type": "markdown",
   "id": "8103805f",
   "metadata": {},
   "source": [
    "## 📈 Univariate Analysis"
   ]
  },
  {
   "cell_type": "code",
   "execution_count": null,
   "id": "23103fc9",
   "metadata": {},
   "outputs": [],
   "source": [
    "plt.figure(figsize=(10, 6))\n",
    "sns.histplot(df['rating'], bins=10, kde=True)\n",
    "plt.title('Distribution of Drug Ratings')\n",
    "plt.xlabel('Rating')\n",
    "plt.ylabel('Frequency')\n",
    "plt.show()"
   ]
  },
  {
   "cell_type": "code",
   "execution_count": null,
   "id": "eae43a94",
   "metadata": {},
   "outputs": [],
   "source": [
    "df['medical_condition'].value_counts().head(10).plot(kind='barh')\n",
    "plt.title('Top 10 Medical Conditions')\n",
    "plt.xlabel('Count')\n",
    "plt.show()"
   ]
  },
  {
   "cell_type": "markdown",
   "id": "69c6517e",
   "metadata": {},
   "source": [
    "## 🔗 Bivariate and Multivariate Analysis"
   ]
  },
  {
   "cell_type": "code",
   "execution_count": null,
   "id": "c9c3e2ae",
   "metadata": {},
   "outputs": [],
   "source": [
    "# Top Drugs by Condition\n",
    "top_drugs = df.groupby('medical_condition')['drug_name'].value_counts().groupby(level=0).head(1)\n",
    "print(top_drugs)"
   ]
  },
  {
   "cell_type": "code",
   "execution_count": null,
   "id": "ff759818",
   "metadata": {},
   "outputs": [],
   "source": [
    "# Ratings by Drug Class\n",
    "plt.figure(figsize=(12, 6))\n",
    "sns.boxplot(x='drug_classes', y='rating', data=df)\n",
    "plt.xticks(rotation=90)\n",
    "plt.title('Drug Ratings by Class')\n",
    "plt.show()"
   ]
  },
  {
   "cell_type": "code",
   "execution_count": null,
   "id": "1d34254b",
   "metadata": {},
   "outputs": [],
   "source": [
    "# Most Common Side Effects\n",
    "df['side_effects'].value_counts().head(10).plot(kind='bar')\n",
    "plt.title('Top 10 Reported Side Effects')\n",
    "plt.show()"
   ]
  },
  {
   "cell_type": "markdown",
   "id": "ece66b7d",
   "metadata": {},
   "source": [
    "## 🔬 Optional: Advanced Analysis"
   ]
  },
  {
   "cell_type": "code",
   "execution_count": null,
   "id": "acfbd520",
   "metadata": {},
   "outputs": [],
   "source": [
    "plt.figure(figsize=(10, 6))\n",
    "sns.heatmap(df.corr(numeric_only=True), annot=True, cmap='coolwarm')\n",
    "plt.title(\"Correlation Matrix\")\n",
    "plt.show()"
   ]
  },
  {
   "cell_type": "markdown",
   "id": "0c3ac1c9",
   "metadata": {},
   "source": [
    "## 📌 Summary of Findings\n",
    "- Key patterns observed.\n",
    "- Conditions with most drugs.\n",
    "- Common side effects.\n",
    "- Drug class-wise rating differences."
   ]
  }
 ],
 "metadata": {
  "kernelspec": {
   "display_name": "Python 3",
   "language": "python",
   "name": "python3"
  },
  "language_info": {
   "name": "python",
   "version": "3.13.1"
  }
 },
 "nbformat": 4,
 "nbformat_minor": 5
}
